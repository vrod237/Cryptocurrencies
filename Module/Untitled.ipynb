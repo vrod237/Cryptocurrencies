{
 "cells": [
  {
   "cell_type": "code",
   "execution_count": 4,
   "metadata": {},
   "outputs": [],
   "source": [
    "import pandas as pd\n",
    "from sklearn.preprocessing import StandardScaler\n",
    "from sklearn.decomposition import PCA\n",
    "from sklearn.cluster import KMeans\n",
    "import hvplot.pandas"
   ]
  },
  {
   "cell_type": "code",
   "execution_count": 9,
   "metadata": {},
   "outputs": [
    {
     "data": {
      "text/html": [
       "<div>\n",
       "<style scoped>\n",
       "    .dataframe tbody tr th:only-of-type {\n",
       "        vertical-align: middle;\n",
       "    }\n",
       "\n",
       "    .dataframe tbody tr th {\n",
       "        vertical-align: top;\n",
       "    }\n",
       "\n",
       "    .dataframe thead th {\n",
       "        text-align: right;\n",
       "    }\n",
       "</style>\n",
       "<table border=\"1\" class=\"dataframe\">\n",
       "  <thead>\n",
       "    <tr style=\"text-align: right;\">\n",
       "      <th></th>\n",
       "      <th>sepal_length</th>\n",
       "      <th>sepal_width</th>\n",
       "      <th>petal_length</th>\n",
       "      <th>petal_width</th>\n",
       "    </tr>\n",
       "  </thead>\n",
       "  <tbody>\n",
       "    <tr>\n",
       "      <th>0</th>\n",
       "      <td>5.1</td>\n",
       "      <td>3.5</td>\n",
       "      <td>1.4</td>\n",
       "      <td>0.2</td>\n",
       "    </tr>\n",
       "    <tr>\n",
       "      <th>1</th>\n",
       "      <td>4.9</td>\n",
       "      <td>3.0</td>\n",
       "      <td>1.4</td>\n",
       "      <td>0.2</td>\n",
       "    </tr>\n",
       "    <tr>\n",
       "      <th>2</th>\n",
       "      <td>4.7</td>\n",
       "      <td>3.2</td>\n",
       "      <td>1.3</td>\n",
       "      <td>0.2</td>\n",
       "    </tr>\n",
       "    <tr>\n",
       "      <th>3</th>\n",
       "      <td>4.6</td>\n",
       "      <td>3.1</td>\n",
       "      <td>1.5</td>\n",
       "      <td>0.2</td>\n",
       "    </tr>\n",
       "    <tr>\n",
       "      <th>4</th>\n",
       "      <td>5.0</td>\n",
       "      <td>3.6</td>\n",
       "      <td>1.4</td>\n",
       "      <td>0.2</td>\n",
       "    </tr>\n",
       "  </tbody>\n",
       "</table>\n",
       "</div>"
      ],
      "text/plain": [
       "   sepal_length  sepal_width  petal_length  petal_width\n",
       "0           5.1          3.5           1.4          0.2\n",
       "1           4.9          3.0           1.4          0.2\n",
       "2           4.7          3.2           1.3          0.2\n",
       "3           4.6          3.1           1.5          0.2\n",
       "4           5.0          3.6           1.4          0.2"
      ]
     },
     "execution_count": 9,
     "metadata": {},
     "output_type": "execute_result"
    }
   ],
   "source": [
    "# loading the preprocessed iris dataset\n",
    "file_path = \"/Users/vrod4/Desktop/Cryptocurrencies/new_iris_data_copy.csv\"\n",
    "df_iris = pd.read_csv(file_path)\n",
    "df_iris.head()"
   ]
  },
  {
   "cell_type": "code",
   "execution_count": 10,
   "metadata": {},
   "outputs": [
    {
     "name": "stdout",
     "output_type": "stream",
     "text": [
      "[[-0.90068117  1.03205722 -1.3412724  -1.31297673]\n",
      " [-1.14301691 -0.1249576  -1.3412724  -1.31297673]\n",
      " [-1.38535265  0.33784833 -1.39813811 -1.31297673]\n",
      " [-1.50652052  0.10644536 -1.2844067  -1.31297673]\n",
      " [-1.02184904  1.26346019 -1.3412724  -1.31297673]]\n"
     ]
    }
   ],
   "source": [
    "# standardize data with StandardScaler\n",
    "iris_scaled = StandardScaler().fit_transform(df_iris)\n",
    "print(iris_scaled[0:5])"
   ]
  },
  {
   "cell_type": "code",
   "execution_count": 11,
   "metadata": {},
   "outputs": [],
   "source": [
    "# Initialize PCA model\n",
    "pca = PCA(n_components=2)"
   ]
  },
  {
   "cell_type": "code",
   "execution_count": 12,
   "metadata": {},
   "outputs": [],
   "source": [
    "# Get two principal components for the iris data.\n",
    "iris_pca = pca.fit_transform(iris_scaled)"
   ]
  },
  {
   "cell_type": "code",
   "execution_count": 13,
   "metadata": {},
   "outputs": [
    {
     "data": {
      "text/html": [
       "<div>\n",
       "<style scoped>\n",
       "    .dataframe tbody tr th:only-of-type {\n",
       "        vertical-align: middle;\n",
       "    }\n",
       "\n",
       "    .dataframe tbody tr th {\n",
       "        vertical-align: top;\n",
       "    }\n",
       "\n",
       "    .dataframe thead th {\n",
       "        text-align: right;\n",
       "    }\n",
       "</style>\n",
       "<table border=\"1\" class=\"dataframe\">\n",
       "  <thead>\n",
       "    <tr style=\"text-align: right;\">\n",
       "      <th></th>\n",
       "      <th>principal component 1</th>\n",
       "      <th>principal component 2</th>\n",
       "    </tr>\n",
       "  </thead>\n",
       "  <tbody>\n",
       "    <tr>\n",
       "      <th>0</th>\n",
       "      <td>-2.264542</td>\n",
       "      <td>0.505704</td>\n",
       "    </tr>\n",
       "    <tr>\n",
       "      <th>1</th>\n",
       "      <td>-2.086426</td>\n",
       "      <td>-0.655405</td>\n",
       "    </tr>\n",
       "    <tr>\n",
       "      <th>2</th>\n",
       "      <td>-2.367950</td>\n",
       "      <td>-0.318477</td>\n",
       "    </tr>\n",
       "    <tr>\n",
       "      <th>3</th>\n",
       "      <td>-2.304197</td>\n",
       "      <td>-0.575368</td>\n",
       "    </tr>\n",
       "    <tr>\n",
       "      <th>4</th>\n",
       "      <td>-2.388777</td>\n",
       "      <td>0.674767</td>\n",
       "    </tr>\n",
       "  </tbody>\n",
       "</table>\n",
       "</div>"
      ],
      "text/plain": [
       "   principal component 1  principal component 2\n",
       "0              -2.264542               0.505704\n",
       "1              -2.086426              -0.655405\n",
       "2              -2.367950              -0.318477\n",
       "3              -2.304197              -0.575368\n",
       "4              -2.388777               0.674767"
      ]
     },
     "execution_count": 13,
     "metadata": {},
     "output_type": "execute_result"
    }
   ],
   "source": [
    "# transform PCA data to a DataFrame\n",
    "df_iris_pca = pd.DataFrame(\n",
    "    data=iris_pca, columns=[\"principal component 1\", \"principal component 2\"]\n",
    ")\n",
    "df_iris_pca.head()"
   ]
  },
  {
   "cell_type": "code",
   "execution_count": 14,
   "metadata": {},
   "outputs": [
    {
     "data": {
      "text/plain": [
       "array([0.72770452, 0.23030523])"
      ]
     },
     "execution_count": 14,
     "metadata": {},
     "output_type": "execute_result"
    }
   ],
   "source": [
    "# fetch the explained variance\n",
    "pca.explained_variance_ratio_"
   ]
  },
  {
   "cell_type": "code",
   "execution_count": 15,
   "metadata": {},
   "outputs": [
    {
     "data": {},
     "metadata": {},
     "output_type": "display_data"
    },
    {
     "data": {
      "application/vnd.holoviews_exec.v0+json": "",
      "text/html": [
       "<div id='1001'>\n",
       "\n",
       "\n",
       "\n",
       "\n",
       "\n",
       "  <div class=\"bk-root\" id=\"2e5fd59b-2642-4baf-a32c-51dcabfdc6d4\" data-root-id=\"1001\"></div>\n",
       "</div>\n",
       "<script type=\"application/javascript\">(function(root) {\n",
       "  function embed_document(root) {\n",
       "  var docs_json = {\"f8969702-07b0-48dd-9d40-813c4a6cff96\":{\"roots\":{\"references\":[{\"attributes\":{\"bottom_units\":\"screen\",\"fill_alpha\":0.5,\"fill_color\":\"lightgrey\",\"left_units\":\"screen\",\"level\":\"overlay\",\"line_alpha\":1.0,\"line_color\":\"black\",\"line_dash\":[4,4],\"line_width\":2,\"right_units\":\"screen\",\"top_units\":\"screen\"},\"id\":\"1028\",\"type\":\"BoxAnnotation\"},{\"attributes\":{\"ticks\":[1,2,3,4,5,6,7,8,9,10]},\"id\":\"1044\",\"type\":\"FixedTicker\"},{\"attributes\":{\"active_drag\":\"auto\",\"active_inspect\":\"auto\",\"active_multi\":null,\"active_scroll\":\"auto\",\"active_tap\":\"auto\",\"tools\":[{\"id\":\"1005\"},{\"id\":\"1023\"},{\"id\":\"1024\"},{\"id\":\"1025\"},{\"id\":\"1026\"},{\"id\":\"1027\"}]},\"id\":\"1029\",\"type\":\"Toolbar\"},{\"attributes\":{},\"id\":\"1037\",\"type\":\"Selection\"},{\"attributes\":{\"axis\":{\"id\":\"1015\"},\"grid_line_color\":null,\"ticker\":null},\"id\":\"1018\",\"type\":\"Grid\"},{\"attributes\":{},\"id\":\"1011\",\"type\":\"LinearScale\"},{\"attributes\":{\"end\":10.0,\"reset_end\":10.0,\"reset_start\":1.0,\"start\":1.0,\"tags\":[[[\"k\",\"k\",null]]]},\"id\":\"1003\",\"type\":\"Range1d\"},{\"attributes\":{},\"id\":\"1020\",\"type\":\"BasicTicker\"},{\"attributes\":{\"axis_label\":\"k\",\"bounds\":\"auto\",\"formatter\":{\"id\":\"1045\"},\"major_label_orientation\":\"horizontal\",\"ticker\":{\"id\":\"1044\"}},\"id\":\"1015\",\"type\":\"LinearAxis\"},{\"attributes\":{\"line_alpha\":0.2,\"line_color\":\"#1f77b3\",\"line_width\":2,\"x\":{\"field\":\"k\"},\"y\":{\"field\":\"inertia\"}},\"id\":\"1041\",\"type\":\"Line\"},{\"attributes\":{\"axis_label\":\"inertia\",\"bounds\":\"auto\",\"formatter\":{\"id\":\"1049\"},\"major_label_orientation\":\"horizontal\",\"ticker\":{\"id\":\"1020\"}},\"id\":\"1019\",\"type\":\"LinearAxis\"},{\"attributes\":{\"axis\":{\"id\":\"1019\"},\"dimension\":1,\"grid_line_color\":null,\"ticker\":null},\"id\":\"1022\",\"type\":\"Grid\"},{\"attributes\":{\"align\":null,\"below\":[{\"id\":\"1015\"}],\"center\":[{\"id\":\"1018\"},{\"id\":\"1022\"}],\"left\":[{\"id\":\"1019\"}],\"margin\":null,\"min_border_bottom\":10,\"min_border_left\":10,\"min_border_right\":10,\"min_border_top\":10,\"plot_height\":300,\"plot_width\":700,\"renderers\":[{\"id\":\"1042\"}],\"sizing_mode\":\"fixed\",\"title\":{\"id\":\"1007\"},\"toolbar\":{\"id\":\"1029\"},\"x_range\":{\"id\":\"1003\"},\"x_scale\":{\"id\":\"1011\"},\"y_range\":{\"id\":\"1004\"},\"y_scale\":{\"id\":\"1013\"}},\"id\":\"1006\",\"subtype\":\"Figure\",\"type\":\"Plot\"},{\"attributes\":{},\"id\":\"1013\",\"type\":\"LinearScale\"},{\"attributes\":{},\"id\":\"1049\",\"type\":\"BasicTickFormatter\"},{\"attributes\":{\"margin\":[5,5,5,5],\"name\":\"HSpacer01525\",\"sizing_mode\":\"stretch_width\"},\"id\":\"1002\",\"type\":\"Spacer\"},{\"attributes\":{\"callback\":null,\"renderers\":[{\"id\":\"1042\"}],\"tags\":[\"hv_created\"],\"tooltips\":[[\"k\",\"@{k}\"],[\"inertia\",\"@{inertia}\"]]},\"id\":\"1005\",\"type\":\"HoverTool\"},{\"attributes\":{\"source\":{\"id\":\"1036\"}},\"id\":\"1043\",\"type\":\"CDSView\"},{\"attributes\":{\"line_color\":\"#1f77b3\",\"line_width\":2,\"x\":{\"field\":\"k\"},\"y\":{\"field\":\"inertia\"}},\"id\":\"1039\",\"type\":\"Line\"},{\"attributes\":{\"text\":\"Elbow Curve\",\"text_color\":{\"value\":\"black\"},\"text_font_size\":{\"value\":\"12pt\"}},\"id\":\"1007\",\"type\":\"Title\"},{\"attributes\":{},\"id\":\"1023\",\"type\":\"SaveTool\"},{\"attributes\":{},\"id\":\"1024\",\"type\":\"PanTool\"},{\"attributes\":{},\"id\":\"1025\",\"type\":\"WheelZoomTool\"},{\"attributes\":{\"overlay\":{\"id\":\"1028\"}},\"id\":\"1026\",\"type\":\"BoxZoomTool\"},{\"attributes\":{},\"id\":\"1027\",\"type\":\"ResetTool\"},{\"attributes\":{},\"id\":\"1057\",\"type\":\"UnionRenderers\"},{\"attributes\":{\"line_alpha\":0.1,\"line_color\":\"#1f77b3\",\"line_width\":2,\"x\":{\"field\":\"k\"},\"y\":{\"field\":\"inertia\"}},\"id\":\"1040\",\"type\":\"Line\"},{\"attributes\":{\"end\":629.4464234300633,\"reset_end\":629.4464234300633,\"reset_start\":-26.24043170399354,\"start\":-26.24043170399354,\"tags\":[[[\"inertia\",\"inertia\",null]]]},\"id\":\"1004\",\"type\":\"Range1d\"},{\"attributes\":{\"data_source\":{\"id\":\"1036\"},\"glyph\":{\"id\":\"1039\"},\"hover_glyph\":null,\"muted_glyph\":{\"id\":\"1041\"},\"nonselection_glyph\":{\"id\":\"1040\"},\"selection_glyph\":null,\"view\":{\"id\":\"1043\"}},\"id\":\"1042\",\"type\":\"GlyphRenderer\"},{\"attributes\":{},\"id\":\"1045\",\"type\":\"BasicTickFormatter\"},{\"attributes\":{\"data\":{\"inertia\":{\"__ndarray__\":\"aTafYnL2gUA0bWBmntZoQK2mqsr9Bl1Aje/4E2huVkDl0qR94pNQQP3j3qojokxAkhm84Hb7R0CaL3dCGh9EQMZsY3u0F0BAM+rHi29mPEA=\",\"dtype\":\"float64\",\"order\":\"little\",\"shape\":[10]},\"k\":[1,2,3,4,5,6,7,8,9,10]},\"selected\":{\"id\":\"1037\"},\"selection_policy\":{\"id\":\"1057\"}},\"id\":\"1036\",\"type\":\"ColumnDataSource\"},{\"attributes\":{\"margin\":[5,5,5,5],\"name\":\"HSpacer01526\",\"sizing_mode\":\"stretch_width\"},\"id\":\"1065\",\"type\":\"Spacer\"},{\"attributes\":{\"children\":[{\"id\":\"1002\"},{\"id\":\"1006\"},{\"id\":\"1065\"}],\"margin\":[0,0,0,0],\"name\":\"Row01521\",\"tags\":[\"embedded\"]},\"id\":\"1001\",\"type\":\"Row\"}],\"root_ids\":[\"1001\"]},\"title\":\"Bokeh Application\",\"version\":\"2.1.0\"}};\n",
       "  var render_items = [{\"docid\":\"f8969702-07b0-48dd-9d40-813c4a6cff96\",\"root_ids\":[\"1001\"],\"roots\":{\"1001\":\"2e5fd59b-2642-4baf-a32c-51dcabfdc6d4\"}}];\n",
       "  root.Bokeh.embed.embed_items_notebook(docs_json, render_items);\n",
       "  }\n",
       "if (root.Bokeh !== undefined) {\n",
       "    embed_document(root);\n",
       "  } else {\n",
       "    var attempts = 0;\n",
       "    var timer = setInterval(function(root) {\n",
       "      if (root.Bokeh !== undefined) {\n",
       "        clearInterval(timer);\n",
       "        embed_document(root);\n",
       "      } else if (document.readyState == \"complete\") {\n",
       "        attempts++;\n",
       "        if (attempts > 100) {\n",
       "          clearInterval(timer);\n",
       "          console.log(\"Bokeh: ERROR: Unable to run BokehJS code because BokehJS library is missing\");\n",
       "        }\n",
       "      }\n",
       "    }, 10, root)\n",
       "  }\n",
       "})(window);</script>"
      ],
      "text/plain": [
       ":Curve   [k]   (inertia)"
      ]
     },
     "execution_count": 15,
     "metadata": {
      "application/vnd.holoviews_exec.v0+json": {
       "id": "1001"
      }
     },
     "output_type": "execute_result"
    }
   ],
   "source": [
    "# Find the best value for K\n",
    "inertia = []\n",
    "k = list(range(1, 11))\n",
    "\n",
    "# Calculate the inertia for the range of K values\n",
    "for i in k:\n",
    "\tkm = KMeans(n_clusters=i, random_state=0)\n",
    "\tkm.fit(df_iris_pca)\n",
    "\tinertia.append(km.inertia_)\n",
    "\n",
    "# Create the elbow curve\n",
    "elbow_data = {\"k\": k, \"inertia\": inertia}\n",
    "df_elbow = pd.DataFrame(elbow_data)\n",
    "df_elbow.hvplot.line(x=\"k\", y=\"inertia\", xticks=k, title=\"Elbow Curve\")\n"
   ]
  },
  {
   "cell_type": "code",
   "execution_count": 16,
   "metadata": {},
   "outputs": [
    {
     "data": {
      "text/html": [
       "<div>\n",
       "<style scoped>\n",
       "    .dataframe tbody tr th:only-of-type {\n",
       "        vertical-align: middle;\n",
       "    }\n",
       "\n",
       "    .dataframe tbody tr th {\n",
       "        vertical-align: top;\n",
       "    }\n",
       "\n",
       "    .dataframe thead th {\n",
       "        text-align: right;\n",
       "    }\n",
       "</style>\n",
       "<table border=\"1\" class=\"dataframe\">\n",
       "  <thead>\n",
       "    <tr style=\"text-align: right;\">\n",
       "      <th></th>\n",
       "      <th>principal component 1</th>\n",
       "      <th>principal component 2</th>\n",
       "      <th>class</th>\n",
       "    </tr>\n",
       "  </thead>\n",
       "  <tbody>\n",
       "    <tr>\n",
       "      <th>0</th>\n",
       "      <td>-2.264542</td>\n",
       "      <td>0.505704</td>\n",
       "      <td>1</td>\n",
       "    </tr>\n",
       "    <tr>\n",
       "      <th>1</th>\n",
       "      <td>-2.086426</td>\n",
       "      <td>-0.655405</td>\n",
       "      <td>1</td>\n",
       "    </tr>\n",
       "    <tr>\n",
       "      <th>2</th>\n",
       "      <td>-2.367950</td>\n",
       "      <td>-0.318477</td>\n",
       "      <td>1</td>\n",
       "    </tr>\n",
       "    <tr>\n",
       "      <th>3</th>\n",
       "      <td>-2.304197</td>\n",
       "      <td>-0.575368</td>\n",
       "      <td>1</td>\n",
       "    </tr>\n",
       "    <tr>\n",
       "      <th>4</th>\n",
       "      <td>-2.388777</td>\n",
       "      <td>0.674767</td>\n",
       "      <td>1</td>\n",
       "    </tr>\n",
       "  </tbody>\n",
       "</table>\n",
       "</div>"
      ],
      "text/plain": [
       "   principal component 1  principal component 2  class\n",
       "0              -2.264542               0.505704      1\n",
       "1              -2.086426              -0.655405      1\n",
       "2              -2.367950              -0.318477      1\n",
       "3              -2.304197              -0.575368      1\n",
       "4              -2.388777               0.674767      1"
      ]
     },
     "execution_count": 16,
     "metadata": {},
     "output_type": "execute_result"
    }
   ],
   "source": [
    "# Initialize the K-means model\n",
    "model = KMeans(n_clusters=3, random_state=0)\n",
    "\n",
    "# Fit the model\n",
    "model.fit(df_iris_pca)\n",
    "\n",
    "# Predict clusters\n",
    "predictions = model.predict(df_iris_pca)\n",
    "\n",
    "# Add the predicted class columns\n",
    "df_iris_pca[\"class\"] = model.labels_\n",
    "df_iris_pca.head()"
   ]
  },
  {
   "cell_type": "code",
   "execution_count": 17,
   "metadata": {},
   "outputs": [
    {
     "data": {},
     "metadata": {},
     "output_type": "display_data"
    },
    {
     "data": {
      "application/vnd.holoviews_exec.v0+json": "",
      "text/html": [
       "<div id='1102'>\n",
       "\n",
       "\n",
       "\n",
       "\n",
       "\n",
       "  <div class=\"bk-root\" id=\"23e888e4-893a-4bec-92d0-5904a5ba65a2\" data-root-id=\"1102\"></div>\n",
       "</div>\n",
       "<script type=\"application/javascript\">(function(root) {\n",
       "  function embed_document(root) {\n",
       "  var docs_json = {\"ab7c24d5-cec2-493d-8aec-d0f6733227a4\":{\"roots\":{\"references\":[{\"attributes\":{},\"id\":\"1162\",\"type\":\"Selection\"},{\"attributes\":{},\"id\":\"1114\",\"type\":\"LinearScale\"},{\"attributes\":{\"click_policy\":\"mute\",\"items\":[{\"id\":\"1160\"},{\"id\":\"1179\"},{\"id\":\"1200\"}],\"location\":[0,0],\"title\":\"class\"},\"id\":\"1159\",\"type\":\"Legend\"},{\"attributes\":{},\"id\":\"1119\",\"type\":\"BasicTicker\"},{\"attributes\":{},\"id\":\"1130\",\"type\":\"ResetTool\"},{\"attributes\":{\"source\":{\"id\":\"1161\"}},\"id\":\"1168\",\"type\":\"CDSView\"},{\"attributes\":{},\"id\":\"1144\",\"type\":\"Selection\"},{\"attributes\":{\"margin\":[5,5,5,5],\"name\":\"HSpacer01757\",\"sizing_mode\":\"stretch_width\"},\"id\":\"1309\",\"type\":\"Spacer\"},{\"attributes\":{\"end\":3.260414452028094,\"reset_end\":3.260414452028094,\"reset_start\":-3.1961060534153853,\"start\":-3.1961060534153853,\"tags\":[[[\"principal component 2\",\"principal component 2\",null]]]},\"id\":\"1105\",\"type\":\"Range1d\"},{\"attributes\":{\"fill_alpha\":{\"value\":0.1},\"fill_color\":{\"value\":\"#2ba02b\"},\"line_alpha\":{\"value\":0.1},\"line_color\":{\"value\":\"#2ba02b\"},\"size\":{\"units\":\"screen\",\"value\":5.477225575051661},\"x\":{\"field\":\"principal component 1\"},\"y\":{\"field\":\"principal component 2\"}},\"id\":\"1184\",\"type\":\"Scatter\"},{\"attributes\":{\"data_source\":{\"id\":\"1143\"},\"glyph\":{\"id\":\"1146\"},\"hover_glyph\":null,\"muted_glyph\":{\"id\":\"1148\"},\"nonselection_glyph\":{\"id\":\"1147\"},\"selection_glyph\":null,\"view\":{\"id\":\"1150\"}},\"id\":\"1149\",\"type\":\"GlyphRenderer\"},{\"attributes\":{},\"id\":\"1181\",\"type\":\"Selection\"},{\"attributes\":{\"align\":null,\"below\":[{\"id\":\"1118\"}],\"center\":[{\"id\":\"1121\"},{\"id\":\"1125\"}],\"left\":[{\"id\":\"1122\"}],\"margin\":null,\"min_border_bottom\":10,\"min_border_left\":10,\"min_border_right\":10,\"min_border_top\":10,\"plot_height\":300,\"plot_width\":700,\"renderers\":[{\"id\":\"1149\"},{\"id\":\"1167\"},{\"id\":\"1186\"}],\"right\":[{\"id\":\"1159\"}],\"sizing_mode\":\"fixed\",\"title\":{\"id\":\"1110\"},\"toolbar\":{\"id\":\"1132\"},\"x_range\":{\"id\":\"1104\"},\"x_scale\":{\"id\":\"1114\"},\"y_range\":{\"id\":\"1105\"},\"y_scale\":{\"id\":\"1116\"}},\"id\":\"1109\",\"subtype\":\"Figure\",\"type\":\"Plot\"},{\"attributes\":{\"children\":[{\"id\":\"1103\"},{\"id\":\"1109\"},{\"id\":\"1309\"}],\"margin\":[0,0,0,0],\"name\":\"Row01752\",\"tags\":[\"embedded\"]},\"id\":\"1102\",\"type\":\"Row\"},{\"attributes\":{\"fill_color\":{\"value\":\"#1f77b3\"},\"line_color\":{\"value\":\"#1f77b3\"},\"size\":{\"units\":\"screen\",\"value\":5.477225575051661},\"x\":{\"field\":\"principal component 1\"},\"y\":{\"field\":\"principal component 2\"}},\"id\":\"1146\",\"type\":\"Scatter\"},{\"attributes\":{\"overlay\":{\"id\":\"1131\"}},\"id\":\"1129\",\"type\":\"BoxZoomTool\"},{\"attributes\":{\"fill_color\":{\"value\":\"#2ba02b\"},\"line_color\":{\"value\":\"#2ba02b\"},\"size\":{\"units\":\"screen\",\"value\":5.477225575051661},\"x\":{\"field\":\"principal component 1\"},\"y\":{\"field\":\"principal component 2\"}},\"id\":\"1183\",\"type\":\"Scatter\"},{\"attributes\":{\"data\":{\"class\":{\"__ndarray__\":\"AAAAAAAAAAAAAAAAAAAAAAAAAAAAAAAAAAAAAAAAAAAAAAAAAAAAAAAAAAAAAAAAAAAAAAAAAAAAAAAAAAAAAAAAAAAAAAAAAAAAAAAAAAAAAAAAAAAAAAAAAAAAAAAAAAAAAAAAAAAAAAAAAAAAAAAAAAAAAAAAAAAAAAAAAAAAAAAAAAAAAAAAAAAAAAAAAAAAAAAAAAAAAAAAAAAAAAAAAAAAAAAAAAAAAAAAAAAAAAAAAAAAAAAAAAA=\",\"dtype\":\"int32\",\"order\":\"little\",\"shape\":[47]},\"principal component 1\":{\"__ndarray__\":\"cpicP/Wp8T/ndLjqfHDnP0hUdjeu3/M/j32nUXn15z97t9eWSwfsPwPqCkTLn+c/ZokX1wP06z/sYaNJSxH0PxdwyrRZu/U/XSqW1lWi2z+jboqoZcrwP2JoZCMRkP0/XaOtkJqmAUCwkwP82gT3P8Sof1zh4v0/c0K5SJgIBkDlZzhbjmwCQPYm68uNAwBAIE9oqvMjAkBti3vYw9r1P60QOb/Elfk/O66UReUl/j8Y0QQIDXj5P3odkBhdivc/QPYnSsB/A0AyhisDH3kKQJbn9rPvUgBAOC4taDwvB0BAqLnnkUT7P6gJnj3aUv8/H9Lu7wVR8D+g2hYHfpP8P38bVl0h1v0/ifhsDuZ7A0AwtjE3VocCQGstB9QUxP0/j042KVhoBkCy+a/eUEj5P/DOTXR+jfU/PAUQICao/T8ODMQGFyEAQLlqwqkqc/4/OQ5TGLJYAEC5eb2NdgMAQPHgNY2o7f0/+IJComFV+D8M9OTEsgX2Pw==\",\"dtype\":\"float64\",\"order\":\"little\",\"shape\":[47]},\"principal component 2\":{\"__ndarray__\":\"3nb2/Z2e6z8ePDfKBSjjP9zNPSGgrOM/t1+rWRnr6D9mOXqk51HgP45BqiETwtk/Y57yIJwL0D/6h7BClya1v0UteShkC9U/Dwg+Gkhd6z/Dk6QJ17XgP4Asy2Xw5Os/C8TpFji+4T+vlDOr+pqpv+1EGSLnotI/pQetLdY66T9WO0mDhTXaP7SQnq/nKee/wI2XATu+/j81oQKF0jTmP299L85taNu/bqdDi22E2j8xfGgVRqrlPzQ3rDJONNA/gjlsMT10BEBHi6QTDFhjv0J0hSJpCe0/cJKR42l12T+SWt+y8znwP5+AK36oDfA/Xqj7cmzHsD/wvEvBKb3Iv5TkXX2vxeE/117ipF+Szz8m4TWwbAIFQJqBO1NYo8e/TSs1XS0I6z+kj2oE2yjxPxv8A+M9Bts/vqTAq3yE5T/Z+zteX4jjP+B2Ilnq8+U/vSJfoH+r6z88eOdp3MbwP/lDMiongNg/edtvjSkT0T8eLdG5BEPwPw==\",\"dtype\":\"float64\",\"order\":\"little\",\"shape\":[47]},\"principal_component_1\":{\"__ndarray__\":\"cpicP/Wp8T/ndLjqfHDnP0hUdjeu3/M/j32nUXn15z97t9eWSwfsPwPqCkTLn+c/ZokX1wP06z/sYaNJSxH0PxdwyrRZu/U/XSqW1lWi2z+jboqoZcrwP2JoZCMRkP0/XaOtkJqmAUCwkwP82gT3P8Sof1zh4v0/c0K5SJgIBkDlZzhbjmwCQPYm68uNAwBAIE9oqvMjAkBti3vYw9r1P60QOb/Elfk/O66UReUl/j8Y0QQIDXj5P3odkBhdivc/QPYnSsB/A0AyhisDH3kKQJbn9rPvUgBAOC4taDwvB0BAqLnnkUT7P6gJnj3aUv8/H9Lu7wVR8D+g2hYHfpP8P38bVl0h1v0/ifhsDuZ7A0AwtjE3VocCQGstB9QUxP0/j042KVhoBkCy+a/eUEj5P/DOTXR+jfU/PAUQICao/T8ODMQGFyEAQLlqwqkqc/4/OQ5TGLJYAEC5eb2NdgMAQPHgNY2o7f0/+IJComFV+D8M9OTEsgX2Pw==\",\"dtype\":\"float64\",\"order\":\"little\",\"shape\":[47]},\"principal_component_2\":{\"__ndarray__\":\"3nb2/Z2e6z8ePDfKBSjjP9zNPSGgrOM/t1+rWRnr6D9mOXqk51HgP45BqiETwtk/Y57yIJwL0D/6h7BClya1v0UteShkC9U/Dwg+Gkhd6z/Dk6QJ17XgP4Asy2Xw5Os/C8TpFji+4T+vlDOr+pqpv+1EGSLnotI/pQetLdY66T9WO0mDhTXaP7SQnq/nKee/wI2XATu+/j81oQKF0jTmP299L85taNu/bqdDi22E2j8xfGgVRqrlPzQ3rDJONNA/gjlsMT10BEBHi6QTDFhjv0J0hSJpCe0/cJKR42l12T+SWt+y8znwP5+AK36oDfA/Xqj7cmzHsD/wvEvBKb3Iv5TkXX2vxeE/117ipF+Szz8m4TWwbAIFQJqBO1NYo8e/TSs1XS0I6z+kj2oE2yjxPxv8A+M9Bts/vqTAq3yE5T/Z+zteX4jjP+B2Ilnq8+U/vSJfoH+r6z88eOdp3MbwP/lDMiongNg/edtvjSkT0T8eLdG5BEPwPw==\",\"dtype\":\"float64\",\"order\":\"little\",\"shape\":[47]}},\"selected\":{\"id\":\"1144\"},\"selection_policy\":{\"id\":\"1158\"}},\"id\":\"1143\",\"type\":\"ColumnDataSource\"},{\"attributes\":{\"end\":3.5698545102352757,\"reset_end\":3.5698545102352757,\"reset_start\":-3.034883121264353,\"start\":-3.034883121264353,\"tags\":[[[\"principal component 1\",\"principal component 1\",null]]]},\"id\":\"1104\",\"type\":\"Range1d\"},{\"attributes\":{\"data_source\":{\"id\":\"1161\"},\"glyph\":{\"id\":\"1164\"},\"hover_glyph\":null,\"muted_glyph\":{\"id\":\"1166\"},\"nonselection_glyph\":{\"id\":\"1165\"},\"selection_glyph\":null,\"view\":{\"id\":\"1168\"}},\"id\":\"1167\",\"type\":\"GlyphRenderer\"},{\"attributes\":{},\"id\":\"1128\",\"type\":\"WheelZoomTool\"},{\"attributes\":{\"axis_label\":\"principal component 1\",\"bounds\":\"auto\",\"formatter\":{\"id\":\"1139\"},\"major_label_orientation\":\"horizontal\",\"ticker\":{\"id\":\"1119\"}},\"id\":\"1118\",\"type\":\"LinearAxis\"},{\"attributes\":{\"fill_color\":{\"value\":\"#ff7e0e\"},\"line_color\":{\"value\":\"#ff7e0e\"},\"size\":{\"units\":\"screen\",\"value\":5.477225575051661},\"x\":{\"field\":\"principal component 1\"},\"y\":{\"field\":\"principal component 2\"}},\"id\":\"1164\",\"type\":\"Scatter\"},{\"attributes\":{},\"id\":\"1158\",\"type\":\"UnionRenderers\"},{\"attributes\":{\"label\":{\"value\":\"0\"},\"renderers\":[{\"id\":\"1149\"}]},\"id\":\"1160\",\"type\":\"LegendItem\"},{\"attributes\":{\"fill_alpha\":{\"value\":0.1},\"fill_color\":{\"value\":\"#ff7e0e\"},\"line_alpha\":{\"value\":0.1},\"line_color\":{\"value\":\"#ff7e0e\"},\"size\":{\"units\":\"screen\",\"value\":5.477225575051661},\"x\":{\"field\":\"principal component 1\"},\"y\":{\"field\":\"principal component 2\"}},\"id\":\"1165\",\"type\":\"Scatter\"},{\"attributes\":{\"data_source\":{\"id\":\"1180\"},\"glyph\":{\"id\":\"1183\"},\"hover_glyph\":null,\"muted_glyph\":{\"id\":\"1185\"},\"nonselection_glyph\":{\"id\":\"1184\"},\"selection_glyph\":null,\"view\":{\"id\":\"1187\"}},\"id\":\"1186\",\"type\":\"GlyphRenderer\"},{\"attributes\":{\"source\":{\"id\":\"1143\"}},\"id\":\"1150\",\"type\":\"CDSView\"},{\"attributes\":{},\"id\":\"1199\",\"type\":\"UnionRenderers\"},{\"attributes\":{\"axis\":{\"id\":\"1118\"},\"grid_line_color\":null,\"ticker\":null},\"id\":\"1121\",\"type\":\"Grid\"},{\"attributes\":{\"fill_alpha\":{\"value\":0.1},\"fill_color\":{\"value\":\"#1f77b3\"},\"line_alpha\":{\"value\":0.1},\"line_color\":{\"value\":\"#1f77b3\"},\"size\":{\"units\":\"screen\",\"value\":5.477225575051661},\"x\":{\"field\":\"principal component 1\"},\"y\":{\"field\":\"principal component 2\"}},\"id\":\"1147\",\"type\":\"Scatter\"},{\"attributes\":{},\"id\":\"1126\",\"type\":\"SaveTool\"},{\"attributes\":{\"text\":\"\",\"text_color\":{\"value\":\"black\"},\"text_font_size\":{\"value\":\"12pt\"}},\"id\":\"1110\",\"type\":\"Title\"},{\"attributes\":{\"bottom_units\":\"screen\",\"fill_alpha\":0.5,\"fill_color\":\"lightgrey\",\"left_units\":\"screen\",\"level\":\"overlay\",\"line_alpha\":1.0,\"line_color\":\"black\",\"line_dash\":[4,4],\"line_width\":2,\"right_units\":\"screen\",\"top_units\":\"screen\"},\"id\":\"1131\",\"type\":\"BoxAnnotation\"},{\"attributes\":{\"axis_label\":\"principal component 2\",\"bounds\":\"auto\",\"formatter\":{\"id\":\"1141\"},\"major_label_orientation\":\"horizontal\",\"ticker\":{\"id\":\"1123\"}},\"id\":\"1122\",\"type\":\"LinearAxis\"},{\"attributes\":{\"active_drag\":\"auto\",\"active_inspect\":\"auto\",\"active_multi\":null,\"active_scroll\":\"auto\",\"active_tap\":\"auto\",\"tools\":[{\"id\":\"1106\"},{\"id\":\"1126\"},{\"id\":\"1127\"},{\"id\":\"1128\"},{\"id\":\"1129\"},{\"id\":\"1130\"}]},\"id\":\"1132\",\"type\":\"Toolbar\"},{\"attributes\":{\"label\":{\"value\":\"1\"},\"renderers\":[{\"id\":\"1167\"}]},\"id\":\"1179\",\"type\":\"LegendItem\"},{\"attributes\":{\"callback\":null,\"renderers\":[{\"id\":\"1149\"},{\"id\":\"1167\"},{\"id\":\"1186\"}],\"tags\":[\"hv_created\"],\"tooltips\":[[\"class\",\"@{class}\"],[\"principal component 1\",\"@{principal_component_1}\"],[\"principal component 2\",\"@{principal_component_2}\"]]},\"id\":\"1106\",\"type\":\"HoverTool\"},{\"attributes\":{\"label\":{\"value\":\"2\"},\"renderers\":[{\"id\":\"1186\"}]},\"id\":\"1200\",\"type\":\"LegendItem\"},{\"attributes\":{\"source\":{\"id\":\"1180\"}},\"id\":\"1187\",\"type\":\"CDSView\"},{\"attributes\":{},\"id\":\"1141\",\"type\":\"BasicTickFormatter\"},{\"attributes\":{},\"id\":\"1127\",\"type\":\"PanTool\"},{\"attributes\":{},\"id\":\"1139\",\"type\":\"BasicTickFormatter\"},{\"attributes\":{},\"id\":\"1116\",\"type\":\"LinearScale\"},{\"attributes\":{\"data\":{\"class\":{\"__ndarray__\":\"AgAAAAIAAAACAAAAAgAAAAIAAAACAAAAAgAAAAIAAAACAAAAAgAAAAIAAAACAAAAAgAAAAIAAAACAAAAAgAAAAIAAAACAAAAAgAAAAIAAAACAAAAAgAAAAIAAAACAAAAAgAAAAIAAAACAAAAAgAAAAIAAAACAAAAAgAAAAIAAAACAAAAAgAAAAIAAAACAAAAAgAAAAIAAAACAAAAAgAAAAIAAAACAAAAAgAAAAIAAAACAAAAAgAAAAIAAAACAAAAAgAAAAIAAAACAAAAAgAAAAIAAAA=\",\"dtype\":\"int32\",\"order\":\"little\",\"shape\":[53]},\"principal component 1\":{\"__ndarray__\":\"hxWMhntt2T9KnJZFWCnxP2uBHlf2mtg/6P4dZv7c379yGywXnaPtP1bCkDZaWXQ/yt2FPizsv7+xz+h8JxTcP11Nsk78puE/O0UqJwTz5j+rz63ghxOjv5xu06S8RdY/67Iv7V2iwz9p6iTH4XHzPzrYZACmFsQ/Xa1SDE473j8SyjX41qXzP4wxy7fjI+Q/HNCK7kVq5j8fhVUnIzDlP6gb1FJINai/bD98rN0cvz9AkVg5BOqMPyff6GWaNc4/D81ZRTXo8D+lsJMoZVfMP9Kbvwf1kvA/t14TnFcrsT97NwN1kKDRP819yQ7wbdE/po3+VwPx4z+73kvRzh7VP73EFNWD6de/3CTllsIb0j80X21EL8y2PwkkQhu5t8w/8wRG5kBd4j/WjFDrsj/dv+OA0gDGJNA/4F8IKHdz8j//oUp+m+/WP1335HGkDPQ/HeKIxsts9z8BRfpdThD0P5BitwdQKu8/9oqkmmBE9T9jfP3wHsDyP+D2a9zEx/E/KzazatUo8z+YvvFQw4ztP+BfCCh3c/I/TNVbMZXv+D852SvtkrLuPw==\",\"dtype\":\"float64\",\"order\":\"little\",\"shape\":[53]},\"principal component 2\":{\"__ndarray__\":\"lM0hw3Uh/L+HAFcJ4hrLv/QVlNb76eK/aZSza/eU/b9sjGFUCw+fP+rLA01tePC/94KEXbZDBcDK9gYTsCWuv03NqHx+XPy/3Hstxk+8x78zLLY26rLbvxi+JkVKZsi/mInUeJ9N6b9l5T6HOSL6v8BAi9CC2fS/twipiLWp2r9Gr8dW+Rvuv+rFU70Krdq/ADfCViNBsL9pGdg+X7fMv2oFEZBX6vC/b8J8cXkE+b9w1i92nSz5v0eekB1e1Oi/Ei0SzX5h5L+Fbj2aaPnRv7yLs++KR/a/lsdo/yc3y79BZwsN7Ub1vykJ/oM76fG/1cUd1SI0nD9u68QlE6Xvv9HC5Ku5JADAqEs7dJBT67+yjkY+Z2PGv1X2R1TcWdi/fDq1mhitw7+5+86JpaH4v6h6HI5KEeO/VAhbdkNx5r9Dlg29Jfb4v5UxaImirfK/uK9g7els3L9VKnQyOXv7v0zNWXwPR+K/SGwdsBUn37/J2YlbzWjUvwCUgLFv8dK/Ta/b9jwm6r8IAFtSILGTP1QIW3ZDcea/xlrVOlT47L+8Ciw2mtGWvw==\",\"dtype\":\"float64\",\"order\":\"little\",\"shape\":[53]},\"principal_component_1\":{\"__ndarray__\":\"hxWMhntt2T9KnJZFWCnxP2uBHlf2mtg/6P4dZv7c379yGywXnaPtP1bCkDZaWXQ/yt2FPizsv7+xz+h8JxTcP11Nsk78puE/O0UqJwTz5j+rz63ghxOjv5xu06S8RdY/67Iv7V2iwz9p6iTH4XHzPzrYZACmFsQ/Xa1SDE473j8SyjX41qXzP4wxy7fjI+Q/HNCK7kVq5j8fhVUnIzDlP6gb1FJINai/bD98rN0cvz9AkVg5BOqMPyff6GWaNc4/D81ZRTXo8D+lsJMoZVfMP9Kbvwf1kvA/t14TnFcrsT97NwN1kKDRP819yQ7wbdE/po3+VwPx4z+73kvRzh7VP73EFNWD6de/3CTllsIb0j80X21EL8y2PwkkQhu5t8w/8wRG5kBd4j/WjFDrsj/dv+OA0gDGJNA/4F8IKHdz8j//oUp+m+/WP1335HGkDPQ/HeKIxsts9z8BRfpdThD0P5BitwdQKu8/9oqkmmBE9T9jfP3wHsDyP+D2a9zEx/E/KzazatUo8z+YvvFQw4ztP+BfCCh3c/I/TNVbMZXv+D852SvtkrLuPw==\",\"dtype\":\"float64\",\"order\":\"little\",\"shape\":[53]},\"principal_component_2\":{\"__ndarray__\":\"lM0hw3Uh/L+HAFcJ4hrLv/QVlNb76eK/aZSza/eU/b9sjGFUCw+fP+rLA01tePC/94KEXbZDBcDK9gYTsCWuv03NqHx+XPy/3Hstxk+8x78zLLY26rLbvxi+JkVKZsi/mInUeJ9N6b9l5T6HOSL6v8BAi9CC2fS/twipiLWp2r9Gr8dW+Rvuv+rFU70Krdq/ADfCViNBsL9pGdg+X7fMv2oFEZBX6vC/b8J8cXkE+b9w1i92nSz5v0eekB1e1Oi/Ei0SzX5h5L+Fbj2aaPnRv7yLs++KR/a/lsdo/yc3y79BZwsN7Ub1vykJ/oM76fG/1cUd1SI0nD9u68QlE6Xvv9HC5Ku5JADAqEs7dJBT67+yjkY+Z2PGv1X2R1TcWdi/fDq1mhitw7+5+86JpaH4v6h6HI5KEeO/VAhbdkNx5r9Dlg29Jfb4v5UxaImirfK/uK9g7els3L9VKnQyOXv7v0zNWXwPR+K/SGwdsBUn37/J2YlbzWjUvwCUgLFv8dK/Ta/b9jwm6r8IAFtSILGTP1QIW3ZDcea/xlrVOlT47L+8Ciw2mtGWvw==\",\"dtype\":\"float64\",\"order\":\"little\",\"shape\":[53]}},\"selected\":{\"id\":\"1181\"},\"selection_policy\":{\"id\":\"1199\"}},\"id\":\"1180\",\"type\":\"ColumnDataSource\"},{\"attributes\":{\"data\":{\"class\":{\"__ndarray__\":\"AQAAAAEAAAABAAAAAQAAAAEAAAABAAAAAQAAAAEAAAABAAAAAQAAAAEAAAABAAAAAQAAAAEAAAABAAAAAQAAAAEAAAABAAAAAQAAAAEAAAABAAAAAQAAAAEAAAABAAAAAQAAAAEAAAABAAAAAQAAAAEAAAABAAAAAQAAAAEAAAABAAAAAQAAAAEAAAABAAAAAQAAAAEAAAABAAAAAQAAAAEAAAABAAAAAQAAAAEAAAABAAAAAQAAAAEAAAABAAAAAQAAAAEAAAA=\",\"dtype\":\"int32\",\"order\":\"little\",\"shape\":[50]},\"principal component 1\":{\"__ndarray__\":\"PhG/DcgdAsChflXa/7AAwC4tSgGQ8QLArXjV6/5uAsCAOOBfNxwDwLQJAJp1kADA7VhZG9GQA8C6vPx66N4BwLnvZ05UvALA5NUzb2iCAcDIACQK0k4BwICPWzp4ngLAbUHW4evKAcBxYBiPIx4FwORkYiHQiQHA8MLFMQADAsDFicmkO58BwNTnRqd8hQHAFbKL2CBO/r9xMd43N7gCwDsu6+IFov6/KnpNIB2jAcAkHszufzEGwHWyHOBnIP2/dG9EsmPTAcBoStBn+E//v+kJWiugagDA0RcE6nVYAcD16Z27WB8BwCQNM3l7JgLA3+URJwwoAcCzCNRTnk/9v3qUD3eZ3QTAyYxIYeyAA8Dk1TNvaIIBwAbB4qBfsAHAqgtPDPdaAMDk1TNvaIIBwJ7dMoLUfAPAVSP02UddAcA84QHLzkoCwF9zDEaD8v2/X/lj5HF2BMD6iQQfsG3/v/qHnMYlEQHAoe7lFFWaAMDS+qMb0QwDwJJmoB9/LwPALZosq3LQAcDejpZMy6UBwA==\",\"dtype\":\"float64\",\"order\":\"little\",\"shape\":[50]},\"principal component 2\":{\"__ndarray__\":\"Ze9787ku4D/2F8lWE/nkv2rYpqjuYdS/DySQjGlp4r/W0afLsZflP72+IZP5S/g/RSSoGooWsz9/eXQ10LHPP9AIOjG4hfG/hU6pnFa23L9rMKXTKCHxPzO/qP2XTMQ/pKo3kBix5r+KiXLvZwbuv96ryBtaPf4/lbWrfGrHBUBkjF03Ujj4Pzj+/04udeA/9kk0V9Tl9j8ppZIPTofyP3PAlsG9jNs/3fKSxId67j9Eu+o4P1TfPyDWDBwFVLs/UO1BJITCxD+2YRod23Pjv3CqjuRgBtE/coxIfx6q4T/lGaA2hIvVP15BWpX4JtS/RgayRej43r8Tlx54QH/cP71xJTRvQf0/xrJwma57AUCFTqmcVrbcvxXn16FhmMe/teVDvSnr5T+FTqmcVrbcv3jEP1q7Ouy/ekSP1gm80j9ZwmaGk/PdP4B/28YcnwLAqO8l3FML3b9nssu+Q9XfP+/eGJkvvvI/+owv2S8k5r9VqsG4/WjyP9SttwhpMde/ee6vZGBo8D/27UmWeoGgPw==\",\"dtype\":\"float64\",\"order\":\"little\",\"shape\":[50]},\"principal_component_1\":{\"__ndarray__\":\"PhG/DcgdAsChflXa/7AAwC4tSgGQ8QLArXjV6/5uAsCAOOBfNxwDwLQJAJp1kADA7VhZG9GQA8C6vPx66N4BwLnvZ05UvALA5NUzb2iCAcDIACQK0k4BwICPWzp4ngLAbUHW4evKAcBxYBiPIx4FwORkYiHQiQHA8MLFMQADAsDFicmkO58BwNTnRqd8hQHAFbKL2CBO/r9xMd43N7gCwDsu6+IFov6/KnpNIB2jAcAkHszufzEGwHWyHOBnIP2/dG9EsmPTAcBoStBn+E//v+kJWiugagDA0RcE6nVYAcD16Z27WB8BwCQNM3l7JgLA3+URJwwoAcCzCNRTnk/9v3qUD3eZ3QTAyYxIYeyAA8Dk1TNvaIIBwAbB4qBfsAHAqgtPDPdaAMDk1TNvaIIBwJ7dMoLUfAPAVSP02UddAcA84QHLzkoCwF9zDEaD8v2/X/lj5HF2BMD6iQQfsG3/v/qHnMYlEQHAoe7lFFWaAMDS+qMb0QwDwJJmoB9/LwPALZosq3LQAcDejpZMy6UBwA==\",\"dtype\":\"float64\",\"order\":\"little\",\"shape\":[50]},\"principal_component_2\":{\"__ndarray__\":\"Ze9787ku4D/2F8lWE/nkv2rYpqjuYdS/DySQjGlp4r/W0afLsZflP72+IZP5S/g/RSSoGooWsz9/eXQ10LHPP9AIOjG4hfG/hU6pnFa23L9rMKXTKCHxPzO/qP2XTMQ/pKo3kBix5r+KiXLvZwbuv96ryBtaPf4/lbWrfGrHBUBkjF03Ujj4Pzj+/04udeA/9kk0V9Tl9j8ppZIPTofyP3PAlsG9jNs/3fKSxId67j9Eu+o4P1TfPyDWDBwFVLs/UO1BJITCxD+2YRod23Pjv3CqjuRgBtE/coxIfx6q4T/lGaA2hIvVP15BWpX4JtS/RgayRej43r8Tlx54QH/cP71xJTRvQf0/xrJwma57AUCFTqmcVrbcvxXn16FhmMe/teVDvSnr5T+FTqmcVrbcv3jEP1q7Ouy/ekSP1gm80j9ZwmaGk/PdP4B/28YcnwLAqO8l3FML3b9nssu+Q9XfP+/eGJkvvvI/+owv2S8k5r9VqsG4/WjyP9SttwhpMde/ee6vZGBo8D/27UmWeoGgPw==\",\"dtype\":\"float64\",\"order\":\"little\",\"shape\":[50]}},\"selected\":{\"id\":\"1162\"},\"selection_policy\":{\"id\":\"1178\"}},\"id\":\"1161\",\"type\":\"ColumnDataSource\"},{\"attributes\":{\"fill_alpha\":{\"value\":0.2},\"fill_color\":{\"value\":\"#1f77b3\"},\"line_alpha\":{\"value\":0.2},\"line_color\":{\"value\":\"#1f77b3\"},\"size\":{\"units\":\"screen\",\"value\":5.477225575051661},\"x\":{\"field\":\"principal component 1\"},\"y\":{\"field\":\"principal component 2\"}},\"id\":\"1148\",\"type\":\"Scatter\"},{\"attributes\":{\"margin\":[5,5,5,5],\"name\":\"HSpacer01756\",\"sizing_mode\":\"stretch_width\"},\"id\":\"1103\",\"type\":\"Spacer\"},{\"attributes\":{},\"id\":\"1123\",\"type\":\"BasicTicker\"},{\"attributes\":{\"fill_alpha\":{\"value\":0.2},\"fill_color\":{\"value\":\"#2ba02b\"},\"line_alpha\":{\"value\":0.2},\"line_color\":{\"value\":\"#2ba02b\"},\"size\":{\"units\":\"screen\",\"value\":5.477225575051661},\"x\":{\"field\":\"principal component 1\"},\"y\":{\"field\":\"principal component 2\"}},\"id\":\"1185\",\"type\":\"Scatter\"},{\"attributes\":{\"fill_alpha\":{\"value\":0.2},\"fill_color\":{\"value\":\"#ff7e0e\"},\"line_alpha\":{\"value\":0.2},\"line_color\":{\"value\":\"#ff7e0e\"},\"size\":{\"units\":\"screen\",\"value\":5.477225575051661},\"x\":{\"field\":\"principal component 1\"},\"y\":{\"field\":\"principal component 2\"}},\"id\":\"1166\",\"type\":\"Scatter\"},{\"attributes\":{},\"id\":\"1178\",\"type\":\"UnionRenderers\"},{\"attributes\":{\"axis\":{\"id\":\"1122\"},\"dimension\":1,\"grid_line_color\":null,\"ticker\":null},\"id\":\"1125\",\"type\":\"Grid\"}],\"root_ids\":[\"1102\"]},\"title\":\"Bokeh Application\",\"version\":\"2.1.0\"}};\n",
       "  var render_items = [{\"docid\":\"ab7c24d5-cec2-493d-8aec-d0f6733227a4\",\"root_ids\":[\"1102\"],\"roots\":{\"1102\":\"23e888e4-893a-4bec-92d0-5904a5ba65a2\"}}];\n",
       "  root.Bokeh.embed.embed_items_notebook(docs_json, render_items);\n",
       "  }\n",
       "if (root.Bokeh !== undefined) {\n",
       "    embed_document(root);\n",
       "  } else {\n",
       "    var attempts = 0;\n",
       "    var timer = setInterval(function(root) {\n",
       "      if (root.Bokeh !== undefined) {\n",
       "        clearInterval(timer);\n",
       "        embed_document(root);\n",
       "      } else if (document.readyState == \"complete\") {\n",
       "        attempts++;\n",
       "        if (attempts > 100) {\n",
       "          clearInterval(timer);\n",
       "          console.log(\"Bokeh: ERROR: Unable to run BokehJS code because BokehJS library is missing\");\n",
       "        }\n",
       "      }\n",
       "    }, 10, root)\n",
       "  }\n",
       "})(window);</script>"
      ],
      "text/plain": [
       ":NdOverlay   [class]\n",
       "   :Scatter   [principal component 1]   (principal component 2,class)"
      ]
     },
     "execution_count": 17,
     "metadata": {
      "application/vnd.holoviews_exec.v0+json": {
       "id": "1102"
      }
     },
     "output_type": "execute_result"
    }
   ],
   "source": [
    "# plotting the clusters\n",
    "df_iris_pca.hvplot.scatter(\n",
    "\tx=\"principal component 1\",\n",
    "\ty=\"principal component 2\",\n",
    "\thover_cols=[\"class\"],\n",
    "\tby=\"class\",\n",
    ")"
   ]
  },
  {
   "cell_type": "code",
   "execution_count": null,
   "metadata": {},
   "outputs": [],
   "source": []
  }
 ],
 "metadata": {
  "kernelspec": {
   "display_name": "PythonData",
   "language": "python",
   "name": "pythondata"
  },
  "language_info": {
   "codemirror_mode": {
    "name": "ipython",
    "version": 3
   },
   "file_extension": ".py",
   "mimetype": "text/x-python",
   "name": "python",
   "nbconvert_exporter": "python",
   "pygments_lexer": "ipython3",
   "version": "3.8.1"
  }
 },
 "nbformat": 4,
 "nbformat_minor": 2
}
